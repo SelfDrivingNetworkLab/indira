{
 "cells": [
  {
   "cell_type": "code",
   "execution_count": null,
   "metadata": {
    "collapsed": false
   },
   "outputs": [
    {
     "name": "stdout",
     "output_type": "stream",
     "text": [
      "0 Start simulation\n",
      "0 start file transfer file_1-3:1\n",
      "0 start file transfer file_2-3:1\n",
      "0 file_1-3:1 drop packet  file_1-3:1-6 where port-3\n",
      "0 file_2-3:1 drop packet  file_2-3:1-6 where port-3\n",
      "2 file_1-3:1 drop packet  file_1-3:1-16 where port-3\n",
      "2 file_2-3:1 drop packet  file_2-3:1-16 where port-3\n",
      "4 file_1-3:1 drop packet  file_1-3:1-26 where port-3\n",
      "4 file_2-3:1 drop packet  file_2-3:1-26 where port-3\n",
      "5 file_1-3:1 success 30 packets 30 drop 3   10 %\n",
      "5 file_2-3:1 success 30 packets 30 drop 3   10 %\n"
     ]
    }
   ],
   "source": [
    "%run sim.py"
   ]
  },
  {
   "cell_type": "code",
   "execution_count": null,
   "metadata": {
    "collapsed": true
   },
   "outputs": [],
   "source": []
  }
 ],
 "metadata": {
  "kernelspec": {
   "display_name": "Python 2",
   "language": "python",
   "name": "python2"
  },
  "language_info": {
   "codemirror_mode": {
    "name": "ipython",
    "version": 2
   },
   "file_extension": ".py",
   "mimetype": "text/x-python",
   "name": "python",
   "nbconvert_exporter": "python",
   "pygments_lexer": "ipython2",
   "version": "2.7.13"
  }
 },
 "nbformat": 4,
 "nbformat_minor": 2
}
